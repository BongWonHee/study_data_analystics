{
 "cells": [
  {
   "cell_type": "code",
   "execution_count": 84,
   "id": "0c9d8fb4-8c3d-484b-aeed-8f0f541dadb7",
   "metadata": {
    "tags": []
   },
   "outputs": [],
   "source": [
    "import pymongo as mg\n",
    "import pandas as pd"
   ]
  },
  {
   "cell_type": "code",
   "execution_count": 85,
   "id": "0864acb4-0dc5-4f93-b2fc-30b7852137e7",
   "metadata": {
    "tags": []
   },
   "outputs": [
    {
     "data": {
      "text/plain": [
       "MongoClient(host=['localhost:27017'], document_class=dict, tz_aware=False, connect=True)"
      ]
     },
     "execution_count": 85,
     "metadata": {},
     "output_type": "execute_result"
    }
   ],
   "source": [
    " client = mg.MongoClient(host='mongodb://localhost:27017/') # mongodb에 접속한 상태임.\n",
    "client"
   ]
  },
  {
   "cell_type": "code",
   "execution_count": 86,
   "id": "c9b38dc3-a7e9-4591-ab23-ef046a0e7ab7",
   "metadata": {
    "tags": []
   },
   "outputs": [
    {
     "data": {
      "text/plain": [
       "Database(MongoClient(host=['localhost:27017'], document_class=dict, tz_aware=False, connect=True), 'study_data_analytics')"
      ]
     },
     "execution_count": 86,
     "metadata": {},
     "output_type": "execute_result"
    }
   ],
   "source": [
    "database = client['study_data_analytics'] # database 접속\n",
    "database "
   ]
  },
  {
   "cell_type": "code",
   "execution_count": 87,
   "id": "89547677-ccf7-4b22-9e7f-769aee19c6e3",
   "metadata": {
    "tags": []
   },
   "outputs": [
    {
     "data": {
      "text/plain": [
       "Collection(Database(MongoClient(host=['localhost:27017'], document_class=dict, tz_aware=False, connect=True), 'study_data_analytics'), 'naver_cafe')"
      ]
     },
     "execution_count": 87,
     "metadata": {},
     "output_type": "execute_result"
    }
   ],
   "source": [
    "collection = database['naver_cafe'] #collection 접속\n",
    "collection"
   ]
  },
  {
   "cell_type": "code",
   "execution_count": 88,
   "id": "ccd9e918-5141-434a-b624-c82433646efc",
   "metadata": {
    "tags": []
   },
   "outputs": [],
   "source": [
    "cursor = collection.find({})"
   ]
  },
  {
   "cell_type": "code",
   "execution_count": 89,
   "id": "75d9e031-e988-497a-9906-158b96c463c7",
   "metadata": {
    "tags": []
   },
   "outputs": [],
   "source": [
    "list_BND = list(cursor)\n",
    "df_NFR = pd.DataFrame(list_BND)"
   ]
  },
  {
   "cell_type": "code",
   "execution_count": 90,
   "id": "3addc5e5-91d4-490a-adbc-71b03294e232",
   "metadata": {
    "tags": []
   },
   "outputs": [
    {
     "data": {
      "text/html": [
       "<div>\n",
       "<style scoped>\n",
       "    .dataframe tbody tr th:only-of-type {\n",
       "        vertical-align: middle;\n",
       "    }\n",
       "\n",
       "    .dataframe tbody tr th {\n",
       "        vertical-align: top;\n",
       "    }\n",
       "\n",
       "    .dataframe thead th {\n",
       "        text-align: right;\n",
       "    }\n",
       "</style>\n",
       "<table border=\"1\" class=\"dataframe\">\n",
       "  <thead>\n",
       "    <tr style=\"text-align: right;\">\n",
       "      <th></th>\n",
       "      <th>_id</th>\n",
       "      <th>content</th>\n",
       "      <th>date</th>\n",
       "      <th>name</th>\n",
       "    </tr>\n",
       "  </thead>\n",
       "  <tbody>\n",
       "    <tr>\n",
       "      <th>0</th>\n",
       "      <td>64fed5b205dff1fce7547bef</td>\n",
       "      <td>- 본인이 병원에서 진료를 본 후기나 치료 후기를 회원들에게 알려주세요.\\n- 병원...</td>\n",
       "      <td>2022.09.09. 11:39</td>\n",
       "      <td>HaroldL</td>\n",
       "    </tr>\n",
       "    <tr>\n",
       "      <th>1</th>\n",
       "      <td>64fed5b405dff1fce7547bf0</td>\n",
       "      <td>- 본인이 병원에서 진료를 본 후기나 치료 후기를 회원들에게 알려주세요.\\n- 병원...</td>\n",
       "      <td>2022.09.09. 11:39</td>\n",
       "      <td>HaroldL</td>\n",
       "    </tr>\n",
       "    <tr>\n",
       "      <th>2</th>\n",
       "      <td>64fed5b405dff1fce7547bf1</td>\n",
       "      <td>여차저차 운이좋게 예약이 되어서 오늘 진료보고 왔어요\\n처음간 병원에선 그냥 계속 ...</td>\n",
       "      <td>2022.09.08. 22:42</td>\n",
       "      <td>유니트유</td>\n",
       "    </tr>\n",
       "    <tr>\n",
       "      <th>3</th>\n",
       "      <td>64fed5b705dff1fce7547bf2</td>\n",
       "      <td>- 본인이 병원에서 진료를 본 후기나 치료 후기를 회원들에게 알려주세요.\\n- 병원...</td>\n",
       "      <td>2022.09.09. 11:39</td>\n",
       "      <td>HaroldL</td>\n",
       "    </tr>\n",
       "    <tr>\n",
       "      <th>4</th>\n",
       "      <td>64fed5b705dff1fce7547bf3</td>\n",
       "      <td>여차저차 운이좋게 예약이 되어서 오늘 진료보고 왔어요\\n처음간 병원에선 그냥 계속 ...</td>\n",
       "      <td>2022.09.08. 22:42</td>\n",
       "      <td>유니트유</td>\n",
       "    </tr>\n",
       "    <tr>\n",
       "      <th>5</th>\n",
       "      <td>64fed5b705dff1fce7547bf4</td>\n",
       "      <td>- 본인이 병원에서 진료를 본 후기나 치료 후기를 회원들에게 알려주세요.\\n- 병원...</td>\n",
       "      <td>2022.09.08. 17:16</td>\n",
       "      <td>써니02</td>\n",
       "    </tr>\n",
       "    <tr>\n",
       "      <th>6</th>\n",
       "      <td>64fed5b905dff1fce7547bf5</td>\n",
       "      <td>- 본인이 병원에서 진료를 본 후기나 치료 후기를 회원들에게 알려주세요.\\n- 병원...</td>\n",
       "      <td>2022.09.09. 11:39</td>\n",
       "      <td>HaroldL</td>\n",
       "    </tr>\n",
       "    <tr>\n",
       "      <th>7</th>\n",
       "      <td>64fed5b905dff1fce7547bf6</td>\n",
       "      <td>여차저차 운이좋게 예약이 되어서 오늘 진료보고 왔어요\\n처음간 병원에선 그냥 계속 ...</td>\n",
       "      <td>2022.09.08. 22:42</td>\n",
       "      <td>유니트유</td>\n",
       "    </tr>\n",
       "    <tr>\n",
       "      <th>8</th>\n",
       "      <td>64fed5b905dff1fce7547bf7</td>\n",
       "      <td>- 본인이 병원에서 진료를 본 후기나 치료 후기를 회원들에게 알려주세요.\\n- 병원...</td>\n",
       "      <td>2022.09.08. 17:16</td>\n",
       "      <td>써니02</td>\n",
       "    </tr>\n",
       "    <tr>\n",
       "      <th>9</th>\n",
       "      <td>64fed5b905dff1fce7547bf8</td>\n",
       "      <td>- 본인이 병원에서 진료를 본 후기나 치료 후기를 회원들에게 알려주세요.\\n- 병원...</td>\n",
       "      <td>2022.09.08. 14:27</td>\n",
       "      <td>루피아빠</td>\n",
       "    </tr>\n",
       "  </tbody>\n",
       "</table>\n",
       "</div>"
      ],
      "text/plain": [
       "                        _id  \\\n",
       "0  64fed5b205dff1fce7547bef   \n",
       "1  64fed5b405dff1fce7547bf0   \n",
       "2  64fed5b405dff1fce7547bf1   \n",
       "3  64fed5b705dff1fce7547bf2   \n",
       "4  64fed5b705dff1fce7547bf3   \n",
       "5  64fed5b705dff1fce7547bf4   \n",
       "6  64fed5b905dff1fce7547bf5   \n",
       "7  64fed5b905dff1fce7547bf6   \n",
       "8  64fed5b905dff1fce7547bf7   \n",
       "9  64fed5b905dff1fce7547bf8   \n",
       "\n",
       "                                             content               date  \\\n",
       "0  - 본인이 병원에서 진료를 본 후기나 치료 후기를 회원들에게 알려주세요.\\n- 병원...  2022.09.09. 11:39   \n",
       "1  - 본인이 병원에서 진료를 본 후기나 치료 후기를 회원들에게 알려주세요.\\n- 병원...  2022.09.09. 11:39   \n",
       "2  여차저차 운이좋게 예약이 되어서 오늘 진료보고 왔어요\\n처음간 병원에선 그냥 계속 ...  2022.09.08. 22:42   \n",
       "3  - 본인이 병원에서 진료를 본 후기나 치료 후기를 회원들에게 알려주세요.\\n- 병원...  2022.09.09. 11:39   \n",
       "4  여차저차 운이좋게 예약이 되어서 오늘 진료보고 왔어요\\n처음간 병원에선 그냥 계속 ...  2022.09.08. 22:42   \n",
       "5  - 본인이 병원에서 진료를 본 후기나 치료 후기를 회원들에게 알려주세요.\\n- 병원...  2022.09.08. 17:16   \n",
       "6  - 본인이 병원에서 진료를 본 후기나 치료 후기를 회원들에게 알려주세요.\\n- 병원...  2022.09.09. 11:39   \n",
       "7  여차저차 운이좋게 예약이 되어서 오늘 진료보고 왔어요\\n처음간 병원에선 그냥 계속 ...  2022.09.08. 22:42   \n",
       "8  - 본인이 병원에서 진료를 본 후기나 치료 후기를 회원들에게 알려주세요.\\n- 병원...  2022.09.08. 17:16   \n",
       "9  - 본인이 병원에서 진료를 본 후기나 치료 후기를 회원들에게 알려주세요.\\n- 병원...  2022.09.08. 14:27   \n",
       "\n",
       "      name  \n",
       "0  HaroldL  \n",
       "1  HaroldL  \n",
       "2     유니트유  \n",
       "3  HaroldL  \n",
       "4     유니트유  \n",
       "5     써니02  \n",
       "6  HaroldL  \n",
       "7     유니트유  \n",
       "8     써니02  \n",
       "9     루피아빠  "
      ]
     },
     "execution_count": 90,
     "metadata": {},
     "output_type": "execute_result"
    }
   ],
   "source": [
    "df_NFR[:10]"
   ]
  },
  {
   "cell_type": "code",
   "execution_count": 91,
   "id": "c4195ff4-6714-4d4d-b198-d1de4a27cc9f",
   "metadata": {
    "tags": []
   },
   "outputs": [],
   "source": [
    "df_NFR.drop_duplicates(subset=['content'], keep='first', inplace=True)"
   ]
  },
  {
   "cell_type": "code",
   "execution_count": 92,
   "id": "fb70afc5-aecc-4a50-9871-3c672e264733",
   "metadata": {
    "tags": []
   },
   "outputs": [],
   "source": [
    "text='- 본인이 병원에서 진료를 본 후기나 치료 후기를 회원들에게 알려주세요.\\n- 병원과 의사명은 카페 회칙에 따라 초성으로 작성해 주시기 바랍니다.\\n================================================== 내 용 ======================================================'"
   ]
  },
  {
   "cell_type": "code",
   "execution_count": 93,
   "id": "6de0a373-03e7-4d5a-ad19-0122092ea0c4",
   "metadata": {
    "tags": []
   },
   "outputs": [],
   "source": [
    "def cutting (data) :\n",
    "    if data == text :\n",
    "        return None\n",
    "    else :\n",
    "        return data"
   ]
  },
  {
   "cell_type": "code",
   "execution_count": 94,
   "id": "c3367577-ccca-4b30-bde8-ef79709ab68c",
   "metadata": {
    "tags": []
   },
   "outputs": [],
   "source": [
    "df_NFR['content']=df_NFR['content'].apply(cutting)"
   ]
  },
  {
   "cell_type": "code",
   "execution_count": 95,
   "id": "b3e713e9-6bea-45be-a4f8-bd84fd4b7e69",
   "metadata": {
    "tags": []
   },
   "outputs": [],
   "source": [
    "df_NFR=df_NFR.dropna().copy()"
   ]
  },
  {
   "cell_type": "code",
   "execution_count": 96,
   "id": "2d250706-f6f3-4d1d-bfc1-b8f1a17e0299",
   "metadata": {
    "tags": []
   },
   "outputs": [],
   "source": [
    "text1 = \"- 척추질환과 관련된 급한 질문은 이곳에서 빠른 도움을 받아보세요.\\n- 지금의 증상이나 치료 등 현재까지의 상황을 자세하게 적어주시기 바랍니다.\\n- 병원과 의사명은 카페 회칙에 따라 초성으로 작성해 주시기 바랍니다.\\n- 참고로 답변이 달린 게시글은 함부로 삭제하지 마시기 바랍니다.\\n=================================================== 내 용 =====================================================\""
   ]
  },
  {
   "cell_type": "code",
   "execution_count": 97,
   "id": "7f4bbe53-72e6-4741-8551-fcd0e162bde6",
   "metadata": {
    "tags": []
   },
   "outputs": [],
   "source": [
    "def cutting2 (data) :\n",
    "    if data == text1 :\n",
    "        return None\n",
    "    else :\n",
    "        return data"
   ]
  },
  {
   "cell_type": "code",
   "execution_count": 98,
   "id": "d990fbf4-99bc-4558-8b5f-662b19e1fe44",
   "metadata": {
    "tags": []
   },
   "outputs": [],
   "source": [
    "df_NFR['content'] = df_NFR['content'].apply(cutting2)"
   ]
  },
  {
   "cell_type": "code",
   "execution_count": 99,
   "id": "e8f26dd3-705f-432d-b8f9-cd9574208e43",
   "metadata": {
    "tags": []
   },
   "outputs": [],
   "source": [
    "df_NFR=df_NFR.drop(columns=['_id',])"
   ]
  },
  {
   "cell_type": "code",
   "execution_count": 100,
   "id": "042f80f4-3d48-4dc9-8826-dd81db805a08",
   "metadata": {
    "tags": []
   },
   "outputs": [],
   "source": [
    "df_NFR['content'] = df_NFR['content'].str.replace(text, '',regex=True)"
   ]
  },
  {
   "cell_type": "code",
   "execution_count": 101,
   "id": "8f0cca61-d84a-4035-bfe3-b81aa34f8f0c",
   "metadata": {
    "tags": []
   },
   "outputs": [],
   "source": [
    "df_NFR['content'] = df_NFR['content'].str.replace(text1, '',regex=True)"
   ]
  },
  {
   "cell_type": "code",
   "execution_count": 102,
   "id": "3a3058c0-61ac-4e0e-b328-573535b668c1",
   "metadata": {
    "tags": []
   },
   "outputs": [],
   "source": [
    "text2 = '\\n'"
   ]
  },
  {
   "cell_type": "code",
   "execution_count": 103,
   "id": "1a699672-1aec-41fc-8f1c-36782c4cf559",
   "metadata": {
    "tags": []
   },
   "outputs": [],
   "source": [
    "df_NFR['content'] = df_NFR['content'].str.replace(text2, '',regex=True)"
   ]
  },
  {
   "cell_type": "code",
   "execution_count": 104,
   "id": "77ceff31-b221-4fd9-b871-4f3caefb83c5",
   "metadata": {
    "tags": []
   },
   "outputs": [],
   "source": [
    "df_NFR.drop_duplicates(subset=['content'], keep='first', inplace=True)"
   ]
  },
  {
   "cell_type": "code",
   "execution_count": 105,
   "id": "c406f1bc-88ec-4312-b405-286193cb3d68",
   "metadata": {
    "tags": []
   },
   "outputs": [],
   "source": [
    "text3 = '================================================== 내 용 ======================================================'"
   ]
  },
  {
   "cell_type": "code",
   "execution_count": 106,
   "id": "830fe6d6-7206-4034-a40e-897453beb66e",
   "metadata": {
    "tags": []
   },
   "outputs": [],
   "source": [
    "df_NFR['content'] = df_NFR['content'].str.replace(text3, '',regex=True)"
   ]
  },
  {
   "cell_type": "code",
   "execution_count": 107,
   "id": "452b7e96-f730-4a65-8b23-7f09b9a44736",
   "metadata": {
    "tags": []
   },
   "outputs": [],
   "source": [
    "df_NFR=df_NFR.dropna().copy()"
   ]
  },
  {
   "cell_type": "code",
   "execution_count": 109,
   "id": "82c3bd90-1318-47e1-bf75-2bfaf4e331b3",
   "metadata": {
    "tags": []
   },
   "outputs": [
    {
     "data": {
      "text/html": [
       "<div>\n",
       "<style scoped>\n",
       "    .dataframe tbody tr th:only-of-type {\n",
       "        vertical-align: middle;\n",
       "    }\n",
       "\n",
       "    .dataframe tbody tr th {\n",
       "        vertical-align: top;\n",
       "    }\n",
       "\n",
       "    .dataframe thead th {\n",
       "        text-align: right;\n",
       "    }\n",
       "</style>\n",
       "<table border=\"1\" class=\"dataframe\">\n",
       "  <thead>\n",
       "    <tr style=\"text-align: right;\">\n",
       "      <th></th>\n",
       "      <th>content</th>\n",
       "      <th>date</th>\n",
       "      <th>name</th>\n",
       "    </tr>\n",
       "  </thead>\n",
       "  <tbody>\n",
       "    <tr>\n",
       "      <th>0</th>\n",
       "      <td>ㄱㅂㅇㄹㄷㅂㅇ ㅇㅎㅇ원장과 7월 초진 때 진료 마치며 9월 8일 우연히도 추석 연휴...</td>\n",
       "      <td>2022.09.09. 11:39</td>\n",
       "      <td>HaroldL</td>\n",
       "    </tr>\n",
       "    <tr>\n",
       "      <th>2</th>\n",
       "      <td>여차저차 운이좋게 예약이 되어서 오늘 진료보고 왔어요처음간 병원에선 그냥 계속 심각...</td>\n",
       "      <td>2022.09.08. 22:42</td>\n",
       "      <td>유니트유</td>\n",
       "    </tr>\n",
       "    <tr>\n",
       "      <th>5</th>\n",
       "      <td>저희 아이는 16살이고 초6때 허리디스크 진단 받았어요3년차 보존치료 하다 이번에는...</td>\n",
       "      <td>2022.09.08. 17:16</td>\n",
       "      <td>써니02</td>\n",
       "    </tr>\n",
       "    <tr>\n",
       "      <th>9</th>\n",
       "      <td>7월 중순부터 왼쪽 고관절과 허리가 불편하여 동네 정형외과 물리치료및 신경차단술2회...</td>\n",
       "      <td>2022.09.08. 14:27</td>\n",
       "      <td>루피아빠</td>\n",
       "    </tr>\n",
       "    <tr>\n",
       "      <th>14</th>\n",
       "      <td></td>\n",
       "      <td>2022.09.07. 23:35</td>\n",
       "      <td>모까솔맘</td>\n",
       "    </tr>\n",
       "    <tr>\n",
       "      <th>27</th>\n",
       "      <td>같은 병원 정형외과에서 신경외과로 오늘 처음 진료 봤습니다ㆍ정형외과에서는 섬유륜파열...</td>\n",
       "      <td>2022.09.07. 16:02</td>\n",
       "      <td>건강하자aaa</td>\n",
       "    </tr>\n",
       "    <tr>\n",
       "      <th>35</th>\n",
       "      <td>ㄱㄴ ㅅㅂㄹㅅ ㄱㄱㅅ 교수님 진료 받았습니다.불편한 증상 말씀드렸더니 들으시고 mr...</td>\n",
       "      <td>2022.09.07. 13:05</td>\n",
       "      <td>상근이사</td>\n",
       "    </tr>\n",
       "    <tr>\n",
       "      <th>44</th>\n",
       "      <td>반갑습니다.부산 사는 40초 남자입니다.어제 해당 병원 ㄱㅅㅅ원장님 진료 봤습니다....</td>\n",
       "      <td>2022.09.07. 11:07</td>\n",
       "      <td>부산82</td>\n",
       "    </tr>\n",
       "    <tr>\n",
       "      <th>54</th>\n",
       "      <td>디스크가 여러군데 있다고 합니다 ㅠ지금은 젊어서 버틸만한데 나중에 고생한다고 하시네...</td>\n",
       "      <td>2022.09.07. 10:54</td>\n",
       "      <td>서울J췜기름</td>\n",
       "    </tr>\n",
       "    <tr>\n",
       "      <th>77</th>\n",
       "      <td>- 본인이 병원에서 진료를 본 후기나 치료 후기를 회원들에게 알려주세요.- 병원과 ...</td>\n",
       "      <td>2022.09.05. 16:59</td>\n",
       "      <td>별품하</td>\n",
       "    </tr>\n",
       "  </tbody>\n",
       "</table>\n",
       "</div>"
      ],
      "text/plain": [
       "                                              content               date  \\\n",
       "0   ㄱㅂㅇㄹㄷㅂㅇ ㅇㅎㅇ원장과 7월 초진 때 진료 마치며 9월 8일 우연히도 추석 연휴...  2022.09.09. 11:39   \n",
       "2   여차저차 운이좋게 예약이 되어서 오늘 진료보고 왔어요처음간 병원에선 그냥 계속 심각...  2022.09.08. 22:42   \n",
       "5   저희 아이는 16살이고 초6때 허리디스크 진단 받았어요3년차 보존치료 하다 이번에는...  2022.09.08. 17:16   \n",
       "9   7월 중순부터 왼쪽 고관절과 허리가 불편하여 동네 정형외과 물리치료및 신경차단술2회...  2022.09.08. 14:27   \n",
       "14                                                     2022.09.07. 23:35   \n",
       "27  같은 병원 정형외과에서 신경외과로 오늘 처음 진료 봤습니다ㆍ정형외과에서는 섬유륜파열...  2022.09.07. 16:02   \n",
       "35  ㄱㄴ ㅅㅂㄹㅅ ㄱㄱㅅ 교수님 진료 받았습니다.불편한 증상 말씀드렸더니 들으시고 mr...  2022.09.07. 13:05   \n",
       "44  반갑습니다.부산 사는 40초 남자입니다.어제 해당 병원 ㄱㅅㅅ원장님 진료 봤습니다....  2022.09.07. 11:07   \n",
       "54  디스크가 여러군데 있다고 합니다 ㅠ지금은 젊어서 버틸만한데 나중에 고생한다고 하시네...  2022.09.07. 10:54   \n",
       "77  - 본인이 병원에서 진료를 본 후기나 치료 후기를 회원들에게 알려주세요.- 병원과 ...  2022.09.05. 16:59   \n",
       "\n",
       "       name  \n",
       "0   HaroldL  \n",
       "2      유니트유  \n",
       "5      써니02  \n",
       "9      루피아빠  \n",
       "14     모까솔맘  \n",
       "27  건강하자aaa  \n",
       "35     상근이사  \n",
       "44     부산82  \n",
       "54   서울J췜기름  \n",
       "77      별품하  "
      ]
     },
     "execution_count": 109,
     "metadata": {},
     "output_type": "execute_result"
    }
   ],
   "source": [
    "df_NFR[:10]"
   ]
  },
  {
   "cell_type": "code",
   "execution_count": 110,
   "id": "debfd78f-116d-414e-91e1-6b31330a3907",
   "metadata": {
    "tags": []
   },
   "outputs": [
    {
     "name": "stdout",
     "output_type": "stream",
     "text": [
      "<class 'pandas.core.frame.DataFrame'>\n",
      "Int64Index: 607 entries, 0 to 210275\n",
      "Data columns (total 3 columns):\n",
      " #   Column   Non-Null Count  Dtype \n",
      "---  ------   --------------  ----- \n",
      " 0   content  607 non-null    object\n",
      " 1   date     607 non-null    object\n",
      " 2   name     607 non-null    object\n",
      "dtypes: object(3)\n",
      "memory usage: 19.0+ KB\n"
     ]
    }
   ],
   "source": [
    "df_NFR.info()"
   ]
  },
  {
   "cell_type": "code",
   "execution_count": 111,
   "id": "f468e2bf-90db-46c6-8046-b45e9d7b0066",
   "metadata": {
    "tags": []
   },
   "outputs": [],
   "source": [
    "client = mg.MongoClient(host='mongodb://localhost:27017')\n",
    "database = client['study_data_analytics']\n",
    "collection = database['naver_cafe_review']"
   ]
  },
  {
   "cell_type": "code",
   "execution_count": 112,
   "id": "bed18d44-76fe-4e22-8511-835aad63b4fc",
   "metadata": {
    "tags": []
   },
   "outputs": [
    {
     "data": {
      "text/plain": [
       "<pymongo.results.InsertManyResult at 0x1fa544f5440>"
      ]
     },
     "execution_count": 112,
     "metadata": {},
     "output_type": "execute_result"
    }
   ],
   "source": [
    "data_dict = df_NFR.to_dict(orient='records')\n",
    "collection.insert_many(data_dict)"
   ]
  },
  {
   "cell_type": "code",
   "execution_count": null,
   "id": "fbcce7fc-a580-49ef-acb2-d05ac3124d69",
   "metadata": {},
   "outputs": [],
   "source": []
  }
 ],
 "metadata": {
  "kernelspec": {
   "display_name": "Python 3 (ipykernel)",
   "language": "python",
   "name": "python3"
  },
  "language_info": {
   "codemirror_mode": {
    "name": "ipython",
    "version": 3
   },
   "file_extension": ".py",
   "mimetype": "text/x-python",
   "name": "python",
   "nbconvert_exporter": "python",
   "pygments_lexer": "ipython3",
   "version": "3.11.3"
  }
 },
 "nbformat": 4,
 "nbformat_minor": 5
}
