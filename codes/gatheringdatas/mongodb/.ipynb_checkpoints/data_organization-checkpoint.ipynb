{
 "cells": [
  {
   "cell_type": "code",
   "execution_count": 46,
   "id": "0c9d8fb4-8c3d-484b-aeed-8f0f541dadb7",
   "metadata": {
    "tags": []
   },
   "outputs": [],
   "source": [
    "import pymongo as mg\n",
    "import pandas as pd"
   ]
  },
  {
   "cell_type": "code",
   "execution_count": 47,
   "id": "0864acb4-0dc5-4f93-b2fc-30b7852137e7",
   "metadata": {
    "tags": []
   },
   "outputs": [
    {
     "data": {
      "text/plain": [
       "MongoClient(host=['localhost:27017'], document_class=dict, tz_aware=False, connect=True)"
      ]
     },
     "execution_count": 47,
     "metadata": {},
     "output_type": "execute_result"
    }
   ],
   "source": [
    " client = mg.MongoClient(host='mongodb://localhost:27017/') # mongodb에 접속한 상태임.\n",
    "client"
   ]
  },
  {
   "cell_type": "code",
   "execution_count": 48,
   "id": "c9b38dc3-a7e9-4591-ab23-ef046a0e7ab7",
   "metadata": {
    "tags": []
   },
   "outputs": [
    {
     "data": {
      "text/plain": [
       "Database(MongoClient(host=['localhost:27017'], document_class=dict, tz_aware=False, connect=True), 'study_data_analytics')"
      ]
     },
     "execution_count": 48,
     "metadata": {},
     "output_type": "execute_result"
    }
   ],
   "source": [
    "database = client['study_data_analytics'] # database 접속\n",
    "database "
   ]
  },
  {
   "cell_type": "code",
   "execution_count": 49,
   "id": "89547677-ccf7-4b22-9e7f-769aee19c6e3",
   "metadata": {
    "tags": []
   },
   "outputs": [
    {
     "data": {
      "text/plain": [
       "Collection(Database(MongoClient(host=['localhost:27017'], document_class=dict, tz_aware=False, connect=True), 'study_data_analytics'), 'naver_cafe')"
      ]
     },
     "execution_count": 49,
     "metadata": {},
     "output_type": "execute_result"
    }
   ],
   "source": [
    "collection = database['naver_cafe'] #collection 접속\n",
    "collection"
   ]
  },
  {
   "cell_type": "code",
   "execution_count": 50,
   "id": "ccd9e918-5141-434a-b624-c82433646efc",
   "metadata": {
    "tags": []
   },
   "outputs": [],
   "source": [
    "cursor = collection.find({})"
   ]
  },
  {
   "cell_type": "code",
   "execution_count": 51,
   "id": "75d9e031-e988-497a-9906-158b96c463c7",
   "metadata": {
    "tags": []
   },
   "outputs": [],
   "source": [
    "list_BND = list(cursor)\n",
    "df_NFR = pd.DataFrame(list_BND)"
   ]
  },
  {
   "cell_type": "code",
   "execution_count": 52,
   "id": "3addc5e5-91d4-490a-adbc-71b03294e232",
   "metadata": {
    "tags": []
   },
   "outputs": [
    {
     "data": {
      "text/html": [
       "<div>\n",
       "<style scoped>\n",
       "    .dataframe tbody tr th:only-of-type {\n",
       "        vertical-align: middle;\n",
       "    }\n",
       "\n",
       "    .dataframe tbody tr th {\n",
       "        vertical-align: top;\n",
       "    }\n",
       "\n",
       "    .dataframe thead th {\n",
       "        text-align: right;\n",
       "    }\n",
       "</style>\n",
       "<table border=\"1\" class=\"dataframe\">\n",
       "  <thead>\n",
       "    <tr style=\"text-align: right;\">\n",
       "      <th></th>\n",
       "      <th>_id</th>\n",
       "      <th>content</th>\n",
       "      <th>date</th>\n",
       "      <th>name</th>\n",
       "    </tr>\n",
       "  </thead>\n",
       "  <tbody>\n",
       "    <tr>\n",
       "      <th>0</th>\n",
       "      <td>64feceda05dff1fce7540224</td>\n",
       "      <td>- 본인이 병원에서 진료를 본 후기나 치료 후기를 회원들에게 알려주세요.\\n- 병원...</td>\n",
       "      <td>2023.01.25. 09:39</td>\n",
       "      <td>lilylee</td>\n",
       "    </tr>\n",
       "    <tr>\n",
       "      <th>1</th>\n",
       "      <td>64fecedd05dff1fce7540225</td>\n",
       "      <td>- 본인이 병원에서 진료를 본 후기나 치료 후기를 회원들에게 알려주세요.\\n- 병원...</td>\n",
       "      <td>2023.01.25. 09:39</td>\n",
       "      <td>lilylee</td>\n",
       "    </tr>\n",
       "    <tr>\n",
       "      <th>2</th>\n",
       "      <td>64fecedd05dff1fce7540226</td>\n",
       "      <td>- 본인이 병원에서 진료를 본 후기나 치료 후기를 회원들에게 알려주세요.\\n- 병원...</td>\n",
       "      <td>2023.01.23. 21:00</td>\n",
       "      <td>트라하유저였던</td>\n",
       "    </tr>\n",
       "    <tr>\n",
       "      <th>3</th>\n",
       "      <td>64fecee005dff1fce7540227</td>\n",
       "      <td>- 본인이 병원에서 진료를 본 후기나 치료 후기를 회원들에게 알려주세요.\\n- 병원...</td>\n",
       "      <td>2023.01.25. 09:39</td>\n",
       "      <td>lilylee</td>\n",
       "    </tr>\n",
       "    <tr>\n",
       "      <th>4</th>\n",
       "      <td>64fecee005dff1fce7540228</td>\n",
       "      <td>- 본인이 병원에서 진료를 본 후기나 치료 후기를 회원들에게 알려주세요.\\n- 병원...</td>\n",
       "      <td>2023.01.23. 21:00</td>\n",
       "      <td>트라하유저였던</td>\n",
       "    </tr>\n",
       "    <tr>\n",
       "      <th>5</th>\n",
       "      <td>64fecee005dff1fce7540229</td>\n",
       "      <td>- 본인이 병원에서 진료를 본 후기나 치료 후기를 회원들에게 알려주세요.\\n- 병원...</td>\n",
       "      <td>2023.01.20. 14:54</td>\n",
       "      <td>후루꾸수학</td>\n",
       "    </tr>\n",
       "    <tr>\n",
       "      <th>6</th>\n",
       "      <td>64fecee205dff1fce754022a</td>\n",
       "      <td>- 본인이 병원에서 진료를 본 후기나 치료 후기를 회원들에게 알려주세요.\\n- 병원...</td>\n",
       "      <td>2023.01.25. 09:39</td>\n",
       "      <td>lilylee</td>\n",
       "    </tr>\n",
       "    <tr>\n",
       "      <th>7</th>\n",
       "      <td>64fecee205dff1fce754022b</td>\n",
       "      <td>- 본인이 병원에서 진료를 본 후기나 치료 후기를 회원들에게 알려주세요.\\n- 병원...</td>\n",
       "      <td>2023.01.23. 21:00</td>\n",
       "      <td>트라하유저였던</td>\n",
       "    </tr>\n",
       "    <tr>\n",
       "      <th>8</th>\n",
       "      <td>64fecee205dff1fce754022c</td>\n",
       "      <td>- 본인이 병원에서 진료를 본 후기나 치료 후기를 회원들에게 알려주세요.\\n- 병원...</td>\n",
       "      <td>2023.01.20. 14:54</td>\n",
       "      <td>후루꾸수학</td>\n",
       "    </tr>\n",
       "    <tr>\n",
       "      <th>9</th>\n",
       "      <td>64fecee205dff1fce754022d</td>\n",
       "      <td>- 본인이 병원에서 진료를 본 후기나 치료 후기를 회원들에게 알려주세요.\\n- 병원...</td>\n",
       "      <td>2023.01.20. 08:04</td>\n",
       "      <td>초록별잉</td>\n",
       "    </tr>\n",
       "  </tbody>\n",
       "</table>\n",
       "</div>"
      ],
      "text/plain": [
       "                        _id  \\\n",
       "0  64feceda05dff1fce7540224   \n",
       "1  64fecedd05dff1fce7540225   \n",
       "2  64fecedd05dff1fce7540226   \n",
       "3  64fecee005dff1fce7540227   \n",
       "4  64fecee005dff1fce7540228   \n",
       "5  64fecee005dff1fce7540229   \n",
       "6  64fecee205dff1fce754022a   \n",
       "7  64fecee205dff1fce754022b   \n",
       "8  64fecee205dff1fce754022c   \n",
       "9  64fecee205dff1fce754022d   \n",
       "\n",
       "                                             content               date  \\\n",
       "0  - 본인이 병원에서 진료를 본 후기나 치료 후기를 회원들에게 알려주세요.\\n- 병원...  2023.01.25. 09:39   \n",
       "1  - 본인이 병원에서 진료를 본 후기나 치료 후기를 회원들에게 알려주세요.\\n- 병원...  2023.01.25. 09:39   \n",
       "2  - 본인이 병원에서 진료를 본 후기나 치료 후기를 회원들에게 알려주세요.\\n- 병원...  2023.01.23. 21:00   \n",
       "3  - 본인이 병원에서 진료를 본 후기나 치료 후기를 회원들에게 알려주세요.\\n- 병원...  2023.01.25. 09:39   \n",
       "4  - 본인이 병원에서 진료를 본 후기나 치료 후기를 회원들에게 알려주세요.\\n- 병원...  2023.01.23. 21:00   \n",
       "5  - 본인이 병원에서 진료를 본 후기나 치료 후기를 회원들에게 알려주세요.\\n- 병원...  2023.01.20. 14:54   \n",
       "6  - 본인이 병원에서 진료를 본 후기나 치료 후기를 회원들에게 알려주세요.\\n- 병원...  2023.01.25. 09:39   \n",
       "7  - 본인이 병원에서 진료를 본 후기나 치료 후기를 회원들에게 알려주세요.\\n- 병원...  2023.01.23. 21:00   \n",
       "8  - 본인이 병원에서 진료를 본 후기나 치료 후기를 회원들에게 알려주세요.\\n- 병원...  2023.01.20. 14:54   \n",
       "9  - 본인이 병원에서 진료를 본 후기나 치료 후기를 회원들에게 알려주세요.\\n- 병원...  2023.01.20. 08:04   \n",
       "\n",
       "      name  \n",
       "0  lilylee  \n",
       "1  lilylee  \n",
       "2  트라하유저였던  \n",
       "3  lilylee  \n",
       "4  트라하유저였던  \n",
       "5    후루꾸수학  \n",
       "6  lilylee  \n",
       "7  트라하유저였던  \n",
       "8    후루꾸수학  \n",
       "9     초록별잉  "
      ]
     },
     "execution_count": 52,
     "metadata": {},
     "output_type": "execute_result"
    }
   ],
   "source": [
    "df_NFR[:10]"
   ]
  },
  {
   "cell_type": "code",
   "execution_count": null,
   "id": "c4195ff4-6714-4d4d-b198-d1de4a27cc9f",
   "metadata": {},
   "outputs": [],
   "source": [
    "df_NFR.drop_duplicates(subset=['content'], keep='first', inplace=True)"
   ]
  },
  {
   "cell_type": "code",
   "execution_count": 55,
   "id": "fb70afc5-aecc-4a50-9871-3c672e264733",
   "metadata": {
    "tags": []
   },
   "outputs": [],
   "source": [
    "text='- 본인이 병원에서 진료를 본 후기나 치료 후기를 회원들에게 알려주세요.\\n- 병원과 의사명은 카페 회칙에 따라 초성으로 작성해 주시기 바랍니다.\\n================================================== 내 용 ======================================================'"
   ]
  },
  {
   "cell_type": "code",
   "execution_count": 58,
   "id": "6de0a373-03e7-4d5a-ad19-0122092ea0c4",
   "metadata": {
    "tags": []
   },
   "outputs": [],
   "source": [
    "def cutting (data) :\n",
    "    if data == text :\n",
    "        return None\n",
    "    else :\n",
    "        return data"
   ]
  },
  {
   "cell_type": "code",
   "execution_count": 59,
   "id": "c3367577-ccca-4b30-bde8-ef79709ab68c",
   "metadata": {
    "tags": []
   },
   "outputs": [],
   "source": [
    "df_NFR['content']=df_NFR['content'].apply(cutting)"
   ]
  },
  {
   "cell_type": "code",
   "execution_count": 61,
   "id": "b3e713e9-6bea-45be-a4f8-bd84fd4b7e69",
   "metadata": {
    "tags": []
   },
   "outputs": [],
   "source": [
    "df_NFR=df_NFR.dropna().copy()"
   ]
  },
  {
   "cell_type": "code",
   "execution_count": 63,
   "id": "2d250706-f6f3-4d1d-bfc1-b8f1a17e0299",
   "metadata": {
    "tags": []
   },
   "outputs": [],
   "source": [
    "text1 = \"- 척추질환과 관련된 급한 질문은 이곳에서 빠른 도움을 받아보세요.\\n- 지금의 증상이나 치료 등 현재까지의 상황을 자세하게 적어주시기 바랍니다.\\n- 병원과 의사명은 카페 회칙에 따라 초성으로 작성해 주시기 바랍니다.\\n- 참고로 답변이 달린 게시글은 함부로 삭제하지 마시기 바랍니다.\\n=================================================== 내 용 =====================================================\""
   ]
  },
  {
   "cell_type": "code",
   "execution_count": 64,
   "id": "7f4bbe53-72e6-4741-8551-fcd0e162bde6",
   "metadata": {
    "tags": []
   },
   "outputs": [],
   "source": [
    "def cutting2 (data) :\n",
    "    if data == text1 :\n",
    "        return None\n",
    "    else :\n",
    "        return data"
   ]
  },
  {
   "cell_type": "code",
   "execution_count": 65,
   "id": "d990fbf4-99bc-4558-8b5f-662b19e1fe44",
   "metadata": {
    "tags": []
   },
   "outputs": [],
   "source": [
    "df_NFR['content'] = df_NFR['content'].apply(cutting2)"
   ]
  },
  {
   "cell_type": "code",
   "execution_count": 68,
   "id": "e8f26dd3-705f-432d-b8f9-cd9574208e43",
   "metadata": {
    "tags": []
   },
   "outputs": [],
   "source": [
    "df_NFR=df_NFR.drop(columns=['_id',])"
   ]
  },
  {
   "cell_type": "code",
   "execution_count": 69,
   "id": "042f80f4-3d48-4dc9-8826-dd81db805a08",
   "metadata": {
    "tags": []
   },
   "outputs": [],
   "source": [
    "df_NFR['content'] = df_NFR['content'].str.replace(text, '',regex=True)"
   ]
  },
  {
   "cell_type": "code",
   "execution_count": 71,
   "id": "8f0cca61-d84a-4035-bfe3-b81aa34f8f0c",
   "metadata": {
    "tags": []
   },
   "outputs": [],
   "source": [
    "df_NFR['content'] = df_NFR['content'].str.replace(text1, '',regex=True)"
   ]
  },
  {
   "cell_type": "code",
   "execution_count": 74,
   "id": "3a3058c0-61ac-4e0e-b328-573535b668c1",
   "metadata": {
    "tags": []
   },
   "outputs": [],
   "source": [
    "text2 = '\\n'"
   ]
  },
  {
   "cell_type": "code",
   "execution_count": 75,
   "id": "1a699672-1aec-41fc-8f1c-36782c4cf559",
   "metadata": {
    "tags": []
   },
   "outputs": [],
   "source": [
    "df_NFR['content'] = df_NFR['content'].str.replace(text2, '',regex=True)"
   ]
  },
  {
   "cell_type": "code",
   "execution_count": 77,
   "id": "77ceff31-b221-4fd9-b871-4f3caefb83c5",
   "metadata": {
    "tags": []
   },
   "outputs": [],
   "source": [
    "df_NFR.drop_duplicates(subset=['content'], keep='first', inplace=True)"
   ]
  },
  {
   "cell_type": "code",
   "execution_count": 79,
   "id": "c406f1bc-88ec-4312-b405-286193cb3d68",
   "metadata": {
    "tags": []
   },
   "outputs": [],
   "source": [
    "text3 = '================================================== 내 용 ======================================================'"
   ]
  },
  {
   "cell_type": "code",
   "execution_count": 80,
   "id": "830fe6d6-7206-4034-a40e-897453beb66e",
   "metadata": {
    "tags": []
   },
   "outputs": [],
   "source": [
    "df_NFR['content'] = df_NFR['content'].str.replace(text3, '',regex=True)"
   ]
  },
  {
   "cell_type": "code",
   "execution_count": null,
   "id": "452b7e96-f730-4a65-8b23-7f09b9a44736",
   "metadata": {},
   "outputs": [],
   "source": [
    "df_NFR=df_NFR.dropna().copy()"
   ]
  },
  {
   "cell_type": "code",
   "execution_count": null,
   "id": "2ee948c3-a6ae-4abd-a3bf-4eb29f02e5f8",
   "metadata": {},
   "outputs": [],
   "source": [
    "df_NFR=df_NFR.drop(columns=['_id',])"
   ]
  },
  {
   "cell_type": "code",
   "execution_count": 81,
   "id": "82c3bd90-1318-47e1-bf75-2bfaf4e331b3",
   "metadata": {
    "tags": []
   },
   "outputs": [
    {
     "data": {
      "text/html": [
       "<div>\n",
       "<style scoped>\n",
       "    .dataframe tbody tr th:only-of-type {\n",
       "        vertical-align: middle;\n",
       "    }\n",
       "\n",
       "    .dataframe tbody tr th {\n",
       "        vertical-align: top;\n",
       "    }\n",
       "\n",
       "    .dataframe thead th {\n",
       "        text-align: right;\n",
       "    }\n",
       "</style>\n",
       "<table border=\"1\" class=\"dataframe\">\n",
       "  <thead>\n",
       "    <tr style=\"text-align: right;\">\n",
       "      <th></th>\n",
       "      <th>content</th>\n",
       "      <th>date</th>\n",
       "      <th>name</th>\n",
       "    </tr>\n",
       "  </thead>\n",
       "  <tbody>\n",
       "    <tr>\n",
       "      <th>0</th>\n",
       "      <td>안녕하세요.65세 친정아버지가 1달전 목디스크 감압술,확장술을 받으셨습니다.시술 직...</td>\n",
       "      <td>2023.01.25. 09:39</td>\n",
       "      <td>lilylee</td>\n",
       "    </tr>\n",
       "    <tr>\n",
       "      <th>2</th>\n",
       "      <td>4번5번 허리디스크수술후다리를 굽혓다 폈다하면 종아리 부근에 통증이 있어 재활의학과...</td>\n",
       "      <td>2023.01.23. 21:00</td>\n",
       "      <td>트라하유저였던</td>\n",
       "    </tr>\n",
       "    <tr>\n",
       "      <th>5</th>\n",
       "      <td>- 본인이 병원에서 진료를 본 후기나 치료 후기를 회원들에게 알려주세요.- 병원과 ...</td>\n",
       "      <td>2023.01.20. 14:54</td>\n",
       "      <td>후루꾸수학</td>\n",
       "    </tr>\n",
       "    <tr>\n",
       "      <th>9</th>\n",
       "      <td>팔때문에 테니스엘보. 2달손목 손가락 다아파진게 2주옆으로누울때마다 양쪽이 다 파파...</td>\n",
       "      <td>2023.01.20. 08:04</td>\n",
       "      <td>초록별잉</td>\n",
       "    </tr>\n",
       "    <tr>\n",
       "      <th>14</th>\n",
       "      <td>21.6월 허리 통증 시작으로22.9월부터 극심한 방사통 생겼어요.보존치료 생각으로...</td>\n",
       "      <td>2023.01.19. 21:51</td>\n",
       "      <td>슬기야사랑해</td>\n",
       "    </tr>\n",
       "    <tr>\n",
       "      <th>20</th>\n",
       "      <td>ㅇㅅㄱㄴㅂㅇ 에서 등통증으로어제 mri찍고 오늘 ㅈㅇㅇ선생님 결과듣고왔어요.추석때부...</td>\n",
       "      <td>2023.01.19. 11:29</td>\n",
       "      <td>별은내꺼</td>\n",
       "    </tr>\n",
       "    <tr>\n",
       "      <th>27</th>\n",
       "      <td>약을 넉 달 복용 후 3시반 진료였는데 상담이 밀려 5시에 진료를 3분 남짓 보았습...</td>\n",
       "      <td>2023.01.18. 18:48</td>\n",
       "      <td>여운형</td>\n",
       "    </tr>\n",
       "    <tr>\n",
       "      <th>35</th>\n",
       "      <td>극성기때..2차성형주사 맞고 약으로도 통증 조절이 안될때 예약해둔곳이고...다른 질...</td>\n",
       "      <td>2023.01.18. 11:14</td>\n",
       "      <td>달고미</td>\n",
       "    </tr>\n",
       "    <tr>\n",
       "      <th>65</th>\n",
       "      <td>허리 옆꾸리가 찌르는 듯한 통증과 오른쪽 발이 저린게 해결이 안되서 허리 MRI를 ...</td>\n",
       "      <td>2023.01.17. 22:06</td>\n",
       "      <td>로미오</td>\n",
       "    </tr>\n",
       "    <tr>\n",
       "      <th>77</th>\n",
       "      <td>아버지(72세)가 다리 통증으로 동네서 한달정도 물리치료 받으셨는데차도가 없어서 시...</td>\n",
       "      <td>2023.01.17. 17:25</td>\n",
       "      <td>꿈꾸는 7990</td>\n",
       "    </tr>\n",
       "  </tbody>\n",
       "</table>\n",
       "</div>"
      ],
      "text/plain": [
       "                                              content               date  \\\n",
       "0   안녕하세요.65세 친정아버지가 1달전 목디스크 감압술,확장술을 받으셨습니다.시술 직...  2023.01.25. 09:39   \n",
       "2   4번5번 허리디스크수술후다리를 굽혓다 폈다하면 종아리 부근에 통증이 있어 재활의학과...  2023.01.23. 21:00   \n",
       "5   - 본인이 병원에서 진료를 본 후기나 치료 후기를 회원들에게 알려주세요.- 병원과 ...  2023.01.20. 14:54   \n",
       "9   팔때문에 테니스엘보. 2달손목 손가락 다아파진게 2주옆으로누울때마다 양쪽이 다 파파...  2023.01.20. 08:04   \n",
       "14  21.6월 허리 통증 시작으로22.9월부터 극심한 방사통 생겼어요.보존치료 생각으로...  2023.01.19. 21:51   \n",
       "20  ㅇㅅㄱㄴㅂㅇ 에서 등통증으로어제 mri찍고 오늘 ㅈㅇㅇ선생님 결과듣고왔어요.추석때부...  2023.01.19. 11:29   \n",
       "27  약을 넉 달 복용 후 3시반 진료였는데 상담이 밀려 5시에 진료를 3분 남짓 보았습...  2023.01.18. 18:48   \n",
       "35  극성기때..2차성형주사 맞고 약으로도 통증 조절이 안될때 예약해둔곳이고...다른 질...  2023.01.18. 11:14   \n",
       "65  허리 옆꾸리가 찌르는 듯한 통증과 오른쪽 발이 저린게 해결이 안되서 허리 MRI를 ...  2023.01.17. 22:06   \n",
       "77  아버지(72세)가 다리 통증으로 동네서 한달정도 물리치료 받으셨는데차도가 없어서 시...  2023.01.17. 17:25   \n",
       "\n",
       "        name  \n",
       "0    lilylee  \n",
       "2    트라하유저였던  \n",
       "5      후루꾸수학  \n",
       "9       초록별잉  \n",
       "14    슬기야사랑해  \n",
       "20      별은내꺼  \n",
       "27       여운형  \n",
       "35       달고미  \n",
       "65       로미오  \n",
       "77  꿈꾸는 7990  "
      ]
     },
     "execution_count": 81,
     "metadata": {},
     "output_type": "execute_result"
    }
   ],
   "source": [
    "df_NFR[:10]"
   ]
  },
  {
   "cell_type": "code",
   "execution_count": null,
   "id": "debfd78f-116d-414e-91e1-6b31330a3907",
   "metadata": {},
   "outputs": [],
   "source": [
    "df_NFR.info()"
   ]
  },
  {
   "cell_type": "code",
   "execution_count": 82,
   "id": "f468e2bf-90db-46c6-8046-b45e9d7b0066",
   "metadata": {
    "tags": []
   },
   "outputs": [],
   "source": [
    "client = mg.MongoClient(host='mongodb://localhost:27017')\n",
    "database = client['study_data_analytics']\n",
    "collection = database['naver_cafe_review']"
   ]
  },
  {
   "cell_type": "code",
   "execution_count": 83,
   "id": "bed18d44-76fe-4e22-8511-835aad63b4fc",
   "metadata": {
    "tags": []
   },
   "outputs": [
    {
     "data": {
      "text/plain": [
       "<pymongo.results.InsertManyResult at 0x1fa24a5ec80>"
      ]
     },
     "execution_count": 83,
     "metadata": {},
     "output_type": "execute_result"
    }
   ],
   "source": [
    "data_dict = df_NFR.to_dict(orient='records')\n",
    "collection.insert_many(data_dict)"
   ]
  },
  {
   "cell_type": "code",
   "execution_count": null,
   "id": "fbcce7fc-a580-49ef-acb2-d05ac3124d69",
   "metadata": {},
   "outputs": [],
   "source": []
  }
 ],
 "metadata": {
  "kernelspec": {
   "display_name": "Python 3 (ipykernel)",
   "language": "python",
   "name": "python3"
  },
  "language_info": {
   "codemirror_mode": {
    "name": "ipython",
    "version": 3
   },
   "file_extension": ".py",
   "mimetype": "text/x-python",
   "name": "python",
   "nbconvert_exporter": "python",
   "pygments_lexer": "ipython3",
   "version": "3.11.3"
  }
 },
 "nbformat": 4,
 "nbformat_minor": 5
}
