{
 "cells": [
  {
   "cell_type": "code",
   "execution_count": 1,
   "id": "9e485cc5-39dd-4dc5-915a-97602b9cf9e6",
   "metadata": {
    "tags": []
   },
   "outputs": [],
   "source": [
    "sentences = [\n",
    "    \"오늘 날씨가 좋아서 나들이 가고 싶다.\", # -> [오늘, 날씨가, 좋아서 ...]\n",
    "    \"이 영화는 정말 재미있었어요.\",\n",
    "    \"맛있는 음식을 먹으러 갈까요?\",\n",
    "    \"운동을 하면 건강에 좋아지는 것 같아요.\",\n",
    "    \"공부하기 싫어서 미루고 있어요.\",\n",
    "    \"여행 계획을 세우고 있는데 어디로 갈까요?\",\n",
    "    \"좋은 책을 읽으면 마음이 편안해져요.\",\n",
    "    \"오늘은 친구들과 만나서 재미있게 놀았어요.\",\n",
    "    \"새로운 언어를 배우는 것은 어려워도 흥미로워요.\",\n",
    "    \"주말에 가족들과 함께 시간을 보내기로 했습니다.\"\n",
    "]"
   ]
  },
  {
   "cell_type": "code",
   "execution_count": 2,
   "id": "9e6a6094-5f9b-4775-a14f-f1d1f20ab719",
   "metadata": {
    "tags": []
   },
   "outputs": [],
   "source": [
    "# gensim 기능 사용 https://radimrehurek.com/gensim/apiref.html\n",
    "from gensim.corpora import Dictionary"
   ]
  },
  {
   "cell_type": "code",
   "execution_count": 3,
   "id": "4c958b64-fac9-4c88-8867-0e95457cb2ff",
   "metadata": {
    "tags": []
   },
   "outputs": [],
   "source": [
    "from gensim.models import LdaModel # 주제어 확인할 때 사용 LDA"
   ]
  },
  {
   "cell_type": "markdown",
   "id": "b46f9bfb-e316-471a-8f7f-8940be091e50",
   "metadata": {},
   "source": [
    "### 전처리(형태소 분석, 불용어 처리 등이 들어감)\n"
   ]
  },
  {
   "cell_type": "code",
   "execution_count": 4,
   "id": "0567b3dc-e4b8-4ed5-810a-30be8a3fbc29",
   "metadata": {
    "tags": []
   },
   "outputs": [],
   "source": [
    "from mecab import MeCab"
   ]
  },
  {
   "cell_type": "code",
   "execution_count": 5,
   "id": "23e31746-f849-4eee-827d-df5ab2d5faa3",
   "metadata": {
    "tags": []
   },
   "outputs": [],
   "source": [
    "mecab=MeCab()"
   ]
  },
  {
   "cell_type": "code",
   "execution_count": 6,
   "id": "606ef7ee-b8c9-416e-b6ef-4a4eedbf33c0",
   "metadata": {
    "tags": []
   },
   "outputs": [
    {
     "data": {
      "text/plain": [
       "[['날씨', '나'],\n",
       " ['영화'],\n",
       " ['음식'],\n",
       " ['운동', '건강', '것'],\n",
       " ['공부'],\n",
       " ['여행', '계획', '어디'],\n",
       " ['책', '마음', '편안'],\n",
       " ['오늘', '친구'],\n",
       " ['언어', '것', '흥미'],\n",
       " ['주말', '가족', '시간']]"
      ]
     },
     "execution_count": 6,
     "metadata": {},
     "output_type": "execute_result"
    }
   ],
   "source": [
    "morphs_list = list()\n",
    "for sentence in sentences :\n",
    "    morphs = mecab.nouns(sentence)\n",
    "    morphs_list.append(morphs)\n",
    "morphs_list"
   ]
  },
  {
   "cell_type": "code",
   "execution_count": 7,
   "id": "a7ec45f3-6331-41b7-b2d9-5a874a6adeec",
   "metadata": {
    "tags": []
   },
   "outputs": [],
   "source": [
    "preprocessed_sentences = morphs_list"
   ]
  },
  {
   "cell_type": "code",
   "execution_count": 8,
   "id": "8de6f715-9e5a-43b2-9328-cf2e92f78325",
   "metadata": {
    "tags": []
   },
   "outputs": [],
   "source": [
    "dictionary=Dictionary(preprocessed_sentences) # .fit 과 동일. "
   ]
  },
  {
   "cell_type": "code",
   "execution_count": 9,
   "id": "6ff3d07e-8904-4404-8a78-f6803fdbc787",
   "metadata": {
    "tags": []
   },
   "outputs": [
    {
     "data": {
      "text/plain": [
       "{'나': 0,\n",
       " '날씨': 1,\n",
       " '영화': 2,\n",
       " '음식': 3,\n",
       " '건강': 4,\n",
       " '것': 5,\n",
       " '운동': 6,\n",
       " '공부': 7,\n",
       " '계획': 8,\n",
       " '어디': 9,\n",
       " '여행': 10,\n",
       " '마음': 11,\n",
       " '책': 12,\n",
       " '편안': 13,\n",
       " '오늘': 14,\n",
       " '친구': 15,\n",
       " '언어': 16,\n",
       " '흥미': 17,\n",
       " '가족': 18,\n",
       " '시간': 19,\n",
       " '주말': 20}"
      ]
     },
     "execution_count": 9,
     "metadata": {},
     "output_type": "execute_result"
    }
   ],
   "source": [
    "## gensim dictionary 하기 _ 단어의 vector를 자동화해줌\n",
    "dictionary.token2id"
   ]
  },
  {
   "cell_type": "markdown",
   "id": "0197befc-44bb-4013-be4b-2454254ad94f",
   "metadata": {},
   "source": [
    "#### corpora.dictionary – Construct word<->id mappings\n",
    "- classgensim.corpora.dictionary.Dictionary(documents=None, prune_at=2000000)\n",
    "- from gensim.corpora import Dictionary\n",
    ">- texts = [['human', 'interface', 'computer']]\n",
    ">- dct = Dictionary(texts)  # initialize a Dictionary\n",
    ">- dct.add_documents([[\"cat\", \"say\", \"meow\"], [\"dog\"]])  # add more document (extend the vocabulary)\n",
    ">- dct.doc2bow([\"dog\", \"computer\", \"non_existent_word\"])\n",
    "[(0, 1), (6, 1)]"
   ]
  },
  {
   "cell_type": "markdown",
   "id": "dc9f7c0e-3997-42bc-a744-77a63e900dad",
   "metadata": {},
   "source": [
    "### transform with dictionary"
   ]
  },
  {
   "cell_type": "code",
   "execution_count": 10,
   "id": "0f7271e2-d9a1-492d-bcec-95897de8b8d5",
   "metadata": {
    "tags": []
   },
   "outputs": [
    {
     "data": {
      "text/plain": [
       "[(0, 1), (1, 1)]"
      ]
     },
     "execution_count": 10,
     "metadata": {},
     "output_type": "execute_result"
    }
   ],
   "source": [
    "dictionary.doc2bow(preprocessed_sentences[0]) # .transform 과 동일"
   ]
  },
  {
   "cell_type": "code",
   "execution_count": 11,
   "id": "b479b1df-a808-47a2-8d6b-de10f78cb965",
   "metadata": {
    "tags": []
   },
   "outputs": [
    {
     "data": {
      "text/plain": [
       "[[(0, 1), (1, 1)],\n",
       " [(2, 1)],\n",
       " [(3, 1)],\n",
       " [(4, 1), (5, 1), (6, 1)],\n",
       " [(7, 1)],\n",
       " [(8, 1), (9, 1), (10, 1)],\n",
       " [(11, 1), (12, 1), (13, 1)],\n",
       " [(14, 1), (15, 1)],\n",
       " [(5, 1), (16, 1), (17, 1)],\n",
       " [(18, 1), (19, 1), (20, 1)]]"
      ]
     },
     "execution_count": 11,
     "metadata": {},
     "output_type": "execute_result"
    }
   ],
   "source": [
    "## vector화 시켜서 넣기 \n",
    "corpus_list = list()\n",
    "for sentence in preprocessed_sentences:\n",
    "    morphs_vector = dictionary.doc2bow(sentence)\n",
    "    corpus_list.append(morphs_vector)\n",
    "corpus_list"
   ]
  },
  {
   "cell_type": "code",
   "execution_count": 12,
   "id": "38182267-e72e-4cc7-8984-a8a2e014cd46",
   "metadata": {
    "tags": []
   },
   "outputs": [],
   "source": [
    "lda_model=LdaModel(corpus=corpus_list, id2word=dictionary, num_topics=3 ) \n",
    "# 숫자에 해당하는 사전을 같이 넣어준다. = .fit\n",
    "# LdaModel은 단어들을 집어넣고 나면 단어 하나당 나머지 token?단어를 비교한다. "
   ]
  },
  {
   "cell_type": "code",
   "execution_count": 13,
   "id": "0d35bc5e-f4c4-4b15-9d46-a1cf069ed707",
   "metadata": {
    "tags": []
   },
   "outputs": [
    {
     "data": {
      "text/plain": [
       "[(0, '0.114*\"가족\" + 0.113*\"시간\" + 0.112*\"주말\" + 0.095*\"공부\" + 0.038*\"음식\"'),\n",
       " (1, '0.098*\"책\" + 0.097*\"편안\" + 0.097*\"마음\" + 0.094*\"날씨\" + 0.094*\"나\"'),\n",
       " (2, '0.118*\"것\" + 0.069*\"언어\" + 0.069*\"여행\" + 0.069*\"건강\" + 0.069*\"계획\"')]"
      ]
     },
     "execution_count": 13,
     "metadata": {},
     "output_type": "execute_result"
    }
   ],
   "source": [
    "lda_model.print_topics(num_words=5)"
   ]
  },
  {
   "attachments": {
    "6496ac1b-7f34-427e-8d81-f0871e38758d.png": {
     "image/png": "[encoded data removed]"
    }
   },
   "cell_type": "markdown",
   "id": "7e6ace82-b60c-48ee-a4c0-ee60f859a12c",
   "metadata": {},
   "source": [
    "![image.png](attachment:6496ac1b-7f34-427e-8d81-f0871e38758d.png)\n",
    "- lda_model=LdaModel(corpus=corpus_list, id2word=dictionary, num_topics=3 ) \n",
    "- 결과= topic 개수만큼! 0,1,2 이렇게 3개 나온것. \n",
    "- 그에 해당하는 num_words=5 의 결과가 5개 나온것. 순차적 나열임. \n",
    "    - 0: 주말 관련 keyword\n",
    "    - 1: 여행 관련 keyword \n",
    "    - 2: 운동 관련 keyword\n",
    "        - 결과의 숫자가 클수록 키워드가 강력한 것. "
   ]
  },
  {
   "cell_type": "markdown",
   "id": "1b7d22bb-befb-4724-a8c8-42c6ff862025",
   "metadata": {},
   "source": [
    "## 최적에 토픽 단어 수"
   ]
  },
  {
   "cell_type": "code",
   "execution_count": 14,
   "id": "9487c9ba-6ad6-4990-872a-b199882d29d7",
   "metadata": {
    "tags": []
   },
   "outputs": [],
   "source": [
    "# 일관성 점수\n",
    "from gensim.models.coherencemodel import CoherenceModel"
   ]
  },
  {
   "cell_type": "code",
   "execution_count": 19,
   "id": "e96f5182-e5fe-4622-bdd0-bd0076ab8cc4",
   "metadata": {
    "tags": []
   },
   "outputs": [
    {
     "data": {
      "text/plain": [
       "0.7204797018632693"
      ]
     },
     "execution_count": 19,
     "metadata": {},
     "output_type": "execute_result"
    }
   ],
   "source": [
    "coherencemodel=CoherenceModel(model=lda_model, texts=morphs_list, dictionary=dictionary)\n",
    "coherencemodel.get_coherence()"
   ]
  },
  {
   "cell_type": "code",
   "execution_count": 20,
   "id": "48227638-bea7-4238-aea6-9e6faafd168f",
   "metadata": {
    "tags": []
   },
   "outputs": [
    {
     "data": {
      "text/plain": [
       "-4.092611818416091"
      ]
     },
     "execution_count": 20,
     "metadata": {},
     "output_type": "execute_result"
    }
   ],
   "source": [
    "# 혼잡도 점수\n",
    "lda_model.log_perplexity(corpus_list)"
   ]
  },
  {
   "cell_type": "code",
   "execution_count": 45,
   "id": "dcf69dc7-7a45-4554-9da1-23dc40c347d3",
   "metadata": {
    "tags": []
   },
   "outputs": [],
   "source": [
    "start_topic = 2\n",
    "end_topic = 10\n",
    "coherence_scores = list()\n",
    "perplexity_scores = list()\n",
    "for topic_number in range(start_topic, end_topic+1) :\n",
    "    lda_model=LdaModel(corpus=corpus_list, id2word=dictionary, num_topics=topic_number ) \n",
    "    coherencemodel=CoherenceModel(model=lda_model, texts=morphs_list, dictionary=dictionary)\n",
    "    coherence_scores.append(coherencemodel.get_coherence()) # 일관성\n",
    "    perplexity_scores.append(lda_model.log_perplexity(corpus_list))\n"
   ]
  },
  {
   "cell_type": "code",
   "execution_count": 46,
   "id": "9844265d-bd5c-4139-aaf2-7f174a759e5f",
   "metadata": {
    "tags": []
   },
   "outputs": [],
   "source": [
    "import pandas as pd\n",
    "scores=pd.DataFrame([coherence_scores, perplexity_scores])"
   ]
  },
  {
   "cell_type": "code",
   "execution_count": 47,
   "id": "e710cb11-743a-4bd8-ada4-ee466a69fd03",
   "metadata": {
    "tags": []
   },
   "outputs": [],
   "source": [
    "import seaborn as sns\n",
    "import matplotlib as plt"
   ]
  },
  {
   "cell_type": "code",
   "execution_count": 49,
   "id": "8bcb58e1-9504-4cb4-99e8-e3cc821e3b34",
   "metadata": {
    "tags": []
   },
   "outputs": [
    {
     "ename": "AttributeError",
     "evalue": "module 'matplotlib' has no attribute 'show'",
     "output_type": "error",
     "traceback": [
      "\u001b[1;31m---------------------------------------------------------------------------\u001b[0m",
      "\u001b[1;31mAttributeError\u001b[0m                            Traceback (most recent call last)",
      "Cell \u001b[1;32mIn[49], line 2\u001b[0m\n\u001b[0;32m      1\u001b[0m sns\u001b[38;5;241m.\u001b[39mlineplot(coherence_scores)\n\u001b[1;32m----> 2\u001b[0m plt\u001b[38;5;241m.\u001b[39mshow()\n\u001b[0;32m      3\u001b[0m sns\u001b[38;5;241m.\u001b[39mlineplot(perplexity_scores)\n\u001b[0;32m      4\u001b[0m plt\u001b[38;5;241m.\u001b[39mshow()\n",
      "File \u001b[1;32m~\\anaconda3\\Lib\\site-packages\\matplotlib\\_api\\__init__.py:226\u001b[0m, in \u001b[0;36mcaching_module_getattr.<locals>.__getattr__\u001b[1;34m(name)\u001b[0m\n\u001b[0;32m    224\u001b[0m \u001b[38;5;28;01mif\u001b[39;00m name \u001b[38;5;129;01min\u001b[39;00m props:\n\u001b[0;32m    225\u001b[0m     \u001b[38;5;28;01mreturn\u001b[39;00m props[name]\u001b[38;5;241m.\u001b[39m\u001b[38;5;21m__get__\u001b[39m(instance)\n\u001b[1;32m--> 226\u001b[0m \u001b[38;5;28;01mraise\u001b[39;00m \u001b[38;5;167;01mAttributeError\u001b[39;00m(\n\u001b[0;32m    227\u001b[0m     \u001b[38;5;124mf\u001b[39m\u001b[38;5;124m\"\u001b[39m\u001b[38;5;124mmodule \u001b[39m\u001b[38;5;132;01m{\u001b[39;00m\u001b[38;5;28mcls\u001b[39m\u001b[38;5;241m.\u001b[39m\u001b[38;5;18m__module__\u001b[39m\u001b[38;5;132;01m!r}\u001b[39;00m\u001b[38;5;124m has no attribute \u001b[39m\u001b[38;5;132;01m{\u001b[39;00mname\u001b[38;5;132;01m!r}\u001b[39;00m\u001b[38;5;124m\"\u001b[39m)\n",
      "\u001b[1;31mAttributeError\u001b[0m: module 'matplotlib' has no attribute 'show'"
     ]
    },
    {
     "data": {
      "image/png": "[encoded data removed]",
      "text/plain": [
       "<Figure size 640x480 with 1 Axes>"
      ]
     },
     "metadata": {},
     "output_type": "display_data"
    }
   ],
   "source": [
    "sns.lineplot(coherence_scores)\n",
    "plt.show()\n",
    "sns.lineplot(perplexity_scores)\n",
    "plt.show()"
   ]
  },
  {
   "cell_type": "code",
   "execution_count": null,
   "id": "5a88e445-9467-418b-a2e1-cf6be16f0406",
   "metadata": {},
   "outputs": [],
   "source": []
  }
 ],
 "metadata": {
  "kernelspec": {
   "display_name": "Python 3 (ipykernel)",
   "language": "python",
   "name": "python3"
  },
  "language_info": {
   "codemirror_mode": {
    "name": "ipython",
    "version": 3
   },
   "file_extension": ".py",
   "mimetype": "text/x-python",
   "name": "python",
   "nbconvert_exporter": "python",
   "pygments_lexer": "ipython3",
   "version": "3.11.3"
  }
 },
 "nbformat": 4,
 "nbformat_minor": 5
}
