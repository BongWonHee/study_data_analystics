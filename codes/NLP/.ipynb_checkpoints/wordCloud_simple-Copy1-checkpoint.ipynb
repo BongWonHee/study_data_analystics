{
 "cells": [
  {
   "cell_type": "markdown",
   "id": "bde25f4d-d718-49bd-ac79-d0bf5aff595c",
   "metadata": {
    "tags": []
   },
   "source": [
    "# !pip install wordcloud  워드클라우드 설치"
   ]
  },
  {
   "cell_type": "code",
   "execution_count": 2,
   "id": "df2fdf87-d97e-4ffb-bff7-09cf6cc17ab9",
   "metadata": {
    "tags": []
   },
   "outputs": [],
   "source": [
    "from wordcloud import WordCloud"
   ]
  },
  {
   "cell_type": "code",
   "execution_count": 3,
   "id": "99f19aab-2f51-49da-bb15-8898d6d04f3e",
   "metadata": {
    "tags": []
   },
   "outputs": [],
   "source": [
    "# 한글 문장 리스트\n",
    "\n",
    "comments = [\n",
    "    \"이 영화 정말 좋아요!\",\n",
    "    \"배우들의 연기가 너무 인상적이었어요.\",\n",
    "    \"스토리가 너무 감동적이에요.\",\n",
    "    \"이 영화는 꼭 보세요!\",\n",
    "    \"음악이 영화 분위기를 더 좋게 만들어줬어요.\",\n",
    "    \"영상미가 아름답습니다.\",\n",
    "    \"이런 영화가 더 많이 나왔으면 좋겠어요.\",\n",
    "    \"장면 전환과 편집이 잘 되어있어요.\",\n",
    "    \"감독의 연출력이 뛰어나네요.\",\n",
    "    \"다시 봐도 재밌을 것 같아요.\"\n",
    "]"
   ]
  },
  {
   "cell_type": "markdown",
   "id": "2cfadc88-48ca-4088-8d51-bac4a6bb722b",
   "metadata": {},
   "source": [
    "## 자연어 처리 위한 단어 생성"
   ]
  },
  {
   "cell_type": "code",
   "execution_count": 4,
   "id": "872244aa-166e-4d2a-bbb4-02a14d4f1320",
   "metadata": {
    "tags": []
   },
   "outputs": [
    {
     "data": {
      "text/plain": [
       "'이 영화 정말 좋아요! 배우들의 연기가 너무 인상적이었어요. 스토리가 너무 감동적이에요. 이 영화는 꼭 보세요! 음악이 영화 분위기를 더 좋게 만들어줬어요. 영상미가 아름답습니다. 이런 영화가 더 많이 나왔으면 좋겠어요. 장면 전환과 편집이 잘 되어있어요. 감독의 연출력이 뛰어나네요. 다시 봐도 재밌을 것 같아요.'"
      ]
     },
     "execution_count": 4,
     "metadata": {},
     "output_type": "execute_result"
    }
   ],
   "source": [
    "# \"맛있는 음식을 먹으러 갈까요?\" -> 공백기준 단어 4개\n",
    "# \"여행 계획을 세우고 있는데 어디로 갈까요?\" -> 6개\n",
    "# 총 단어는 10개지만 동일한 단어는 겹칠 수 있다.\n",
    "text=' '.join(comments)\n",
    "text"
   ]
  },
  {
   "cell_type": "code",
   "execution_count": 5,
   "id": "b8a6effd-dcad-4c5d-bdde-4df74783c172",
   "metadata": {
    "tags": []
   },
   "outputs": [
    {
     "data": {
      "text/plain": [
       "['이',\n",
       " '영화',\n",
       " '정말',\n",
       " '좋아요!',\n",
       " '배우들의',\n",
       " '연기가',\n",
       " '너무',\n",
       " '인상적이었어요.',\n",
       " '스토리가',\n",
       " '너무',\n",
       " '감동적이에요.',\n",
       " '이',\n",
       " '영화는',\n",
       " '꼭',\n",
       " '보세요!',\n",
       " '음악이',\n",
       " '영화',\n",
       " '분위기를',\n",
       " '더',\n",
       " '좋게',\n",
       " '만들어줬어요.',\n",
       " '영상미가',\n",
       " '아름답습니다.',\n",
       " '이런',\n",
       " '영화가',\n",
       " '더',\n",
       " '많이',\n",
       " '나왔으면',\n",
       " '좋겠어요.',\n",
       " '장면',\n",
       " '전환과',\n",
       " '편집이',\n",
       " '잘',\n",
       " '되어있어요.',\n",
       " '감독의',\n",
       " '연출력이',\n",
       " '뛰어나네요.',\n",
       " '다시',\n",
       " '봐도',\n",
       " '재밌을',\n",
       " '것',\n",
       " '같아요.']"
      ]
     },
     "execution_count": 5,
     "metadata": {},
     "output_type": "execute_result"
    }
   ],
   "source": [
    "text_split = text.split()\n",
    "text_split"
   ]
  },
  {
   "cell_type": "markdown",
   "id": "0f94535c-2777-4cfb-991c-5f75792247c6",
   "metadata": {},
   "source": [
    "## 자연어 처리 위한 형태분서기 적용"
   ]
  },
  {
   "cell_type": "code",
   "execution_count": 6,
   "id": "e64159b3-2321-4990-b92b-0c4bbfcb825e",
   "metadata": {
    "tags": []
   },
   "outputs": [],
   "source": [
    "from mecab import MeCab\n",
    "mecab = MeCab()"
   ]
  },
  {
   "cell_type": "code",
   "execution_count": null,
   "id": "2cc060e8-e88b-422e-8568-8521ed0cb3c3",
   "metadata": {
    "tags": []
   },
   "outputs": [],
   "source": [
    "mecab.nouns(comments)"
   ]
  },
  {
   "cell_type": "code",
   "execution_count": null,
   "id": "12e9b03a-881b-41b3-9457-6f5e6eb9063b",
   "metadata": {
    "tags": []
   },
   "outputs": [],
   "source": [
    "from collections import Counter\n",
    "Counter(text_split)"
   ]
  },
  {
   "cell_type": "code",
   "execution_count": null,
   "id": "c4952670-3530-46b7-9225-372b128a91f5",
   "metadata": {
    "tags": []
   },
   "outputs": [],
   "source": [
    "# 한글 폰트 경로 설정 (Windows 환경에 맞게 경로 수정)\n",
    "font_path = 'C:/Windows/Fonts/malgun.ttf'\n",
    "\n",
    "wordCloud = WordCloud(font_path=font_path)\n",
    "wordCloud.generate_from_text(text)"
   ]
  },
  {
   "cell_type": "code",
   "execution_count": null,
   "id": "2d10c866-ab14-4b0b-837a-5db7fe91c9fd",
   "metadata": {
    "tags": []
   },
   "outputs": [],
   "source": [
    "wordCloud.words_"
   ]
  },
  {
   "cell_type": "code",
   "execution_count": null,
   "id": "8b0ce229-89cf-456d-8cd6-f3f49056b954",
   "metadata": {
    "tags": []
   },
   "outputs": [],
   "source": [
    "import matplotlib.pyplot as plt\n",
    "plt.imshow(wordCloud)\n",
    "plt.axis('off')\n",
    "plt.show()"
   ]
  },
  {
   "cell_type": "code",
   "execution_count": null,
   "id": "b7152754-495d-4ea3-bf23-e3da6e3e27da",
   "metadata": {},
   "outputs": [],
   "source": []
  }
 ],
 "metadata": {
  "kernelspec": {
   "display_name": "Python 3 (ipykernel)",
   "language": "python",
   "name": "python3"
  },
  "language_info": {
   "codemirror_mode": {
    "name": "ipython",
    "version": 3
   },
   "file_extension": ".py",
   "mimetype": "text/x-python",
   "name": "python",
   "nbconvert_exporter": "python",
   "pygments_lexer": "ipython3",
   "version": "3.11.3"
  }
 },
 "nbformat": 4,
 "nbformat_minor": 5
}
