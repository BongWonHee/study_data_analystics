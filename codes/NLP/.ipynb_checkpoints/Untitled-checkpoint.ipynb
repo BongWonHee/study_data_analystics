{
 "cells": [
  {
   "cell_type": "code",
   "execution_count": 1,
   "id": "cea207c6-a8a8-4d79-bbbc-5ae89d9a1701",
   "metadata": {
    "tags": []
   },
   "outputs": [],
   "source": [
    "# !pip install wget"
   ]
  },
  {
   "cell_type": "code",
   "execution_count": 2,
   "id": "168cd93f-1e69-450a-b60d-71f076f258fa",
   "metadata": {
    "tags": []
   },
   "outputs": [],
   "source": [
    "import wget"
   ]
  },
  {
   "cell_type": "code",
   "execution_count": 3,
   "id": "821e0ec7-aec6-40bb-bc65-da193188d71c",
   "metadata": {
    "tags": []
   },
   "outputs": [],
   "source": [
    "# wget.download('https://raw.githubusercontent.com/e9t/nsmc/master/ratings_train.txt')"
   ]
  },
  {
   "cell_type": "code",
   "execution_count": 1,
   "id": "858fade6-1a12-4068-a255-32b3c4a673db",
   "metadata": {
    "tags": []
   },
   "outputs": [
    {
     "data": {
      "text/html": [
       "<div>\n",
       "<style scoped>\n",
       "    .dataframe tbody tr th:only-of-type {\n",
       "        vertical-align: middle;\n",
       "    }\n",
       "\n",
       "    .dataframe tbody tr th {\n",
       "        vertical-align: top;\n",
       "    }\n",
       "\n",
       "    .dataframe thead th {\n",
       "        text-align: right;\n",
       "    }\n",
       "</style>\n",
       "<table border=\"1\" class=\"dataframe\">\n",
       "  <thead>\n",
       "    <tr style=\"text-align: right;\">\n",
       "      <th></th>\n",
       "      <th>id</th>\n",
       "      <th>document</th>\n",
       "      <th>label</th>\n",
       "    </tr>\n",
       "  </thead>\n",
       "  <tbody>\n",
       "    <tr>\n",
       "      <th>0</th>\n",
       "      <td>9976970</td>\n",
       "      <td>아 더빙.. 진짜 짜증나네요 목소리</td>\n",
       "      <td>0</td>\n",
       "    </tr>\n",
       "    <tr>\n",
       "      <th>1</th>\n",
       "      <td>3819312</td>\n",
       "      <td>흠...포스터보고 초딩영화줄....오버연기조차 가볍지 않구나</td>\n",
       "      <td>1</td>\n",
       "    </tr>\n",
       "    <tr>\n",
       "      <th>2</th>\n",
       "      <td>10265843</td>\n",
       "      <td>너무재밓었다그래서보는것을추천한다</td>\n",
       "      <td>0</td>\n",
       "    </tr>\n",
       "    <tr>\n",
       "      <th>3</th>\n",
       "      <td>9045019</td>\n",
       "      <td>교도소 이야기구먼 ..솔직히 재미는 없다..평점 조정</td>\n",
       "      <td>0</td>\n",
       "    </tr>\n",
       "    <tr>\n",
       "      <th>4</th>\n",
       "      <td>6483659</td>\n",
       "      <td>사이몬페그의 익살스런 연기가 돋보였던 영화!스파이더맨에서 늙어보이기만 했던 커스틴 ...</td>\n",
       "      <td>1</td>\n",
       "    </tr>\n",
       "  </tbody>\n",
       "</table>\n",
       "</div>"
      ],
      "text/plain": [
       "         id                                           document  label\n",
       "0   9976970                                아 더빙.. 진짜 짜증나네요 목소리      0\n",
       "1   3819312                  흠...포스터보고 초딩영화줄....오버연기조차 가볍지 않구나      1\n",
       "2  10265843                                  너무재밓었다그래서보는것을추천한다      0\n",
       "3   9045019                      교도소 이야기구먼 ..솔직히 재미는 없다..평점 조정      0\n",
       "4   6483659  사이몬페그의 익살스런 연기가 돋보였던 영화!스파이더맨에서 늙어보이기만 했던 커스틴 ...      1"
      ]
     },
     "execution_count": 1,
     "metadata": {},
     "output_type": "execute_result"
    }
   ],
   "source": [
    "import pandas as pd\n",
    "df_naver_movie_comments = pd.read_csv('./ratings_train.txt',sep='\\t')\n",
    "df_naver_movie_comments[:5]"
   ]
  },
  {
   "cell_type": "code",
   "execution_count": 2,
   "id": "4785b681-729b-481b-93ef-0c920a87b981",
   "metadata": {
    "tags": []
   },
   "outputs": [],
   "source": [
    "df_naver_movie_comments=df_naver_movie_comments.drop(columns=['id','label'])"
   ]
  },
  {
   "cell_type": "code",
   "execution_count": 3,
   "id": "addb57b6-5393-4e25-9c30-75686ff862e3",
   "metadata": {
    "tags": []
   },
   "outputs": [
    {
     "data": {
      "text/html": [
       "<div>\n",
       "<style scoped>\n",
       "    .dataframe tbody tr th:only-of-type {\n",
       "        vertical-align: middle;\n",
       "    }\n",
       "\n",
       "    .dataframe tbody tr th {\n",
       "        vertical-align: top;\n",
       "    }\n",
       "\n",
       "    .dataframe thead th {\n",
       "        text-align: right;\n",
       "    }\n",
       "</style>\n",
       "<table border=\"1\" class=\"dataframe\">\n",
       "  <thead>\n",
       "    <tr style=\"text-align: right;\">\n",
       "      <th></th>\n",
       "      <th>document</th>\n",
       "    </tr>\n",
       "  </thead>\n",
       "  <tbody>\n",
       "    <tr>\n",
       "      <th>0</th>\n",
       "      <td>아 더빙.. 진짜 짜증나네요 목소리</td>\n",
       "    </tr>\n",
       "    <tr>\n",
       "      <th>1</th>\n",
       "      <td>흠...포스터보고 초딩영화줄....오버연기조차 가볍지 않구나</td>\n",
       "    </tr>\n",
       "    <tr>\n",
       "      <th>2</th>\n",
       "      <td>너무재밓었다그래서보는것을추천한다</td>\n",
       "    </tr>\n",
       "  </tbody>\n",
       "</table>\n",
       "</div>"
      ],
      "text/plain": [
       "                            document\n",
       "0                아 더빙.. 진짜 짜증나네요 목소리\n",
       "1  흠...포스터보고 초딩영화줄....오버연기조차 가볍지 않구나\n",
       "2                  너무재밓었다그래서보는것을추천한다"
      ]
     },
     "execution_count": 3,
     "metadata": {},
     "output_type": "execute_result"
    }
   ],
   "source": [
    "df_naver_movie_comments[:3]"
   ]
  },
  {
   "cell_type": "code",
   "execution_count": 4,
   "id": "aeb4bcac-6209-4891-a594-fa8d5080e380",
   "metadata": {
    "tags": []
   },
   "outputs": [
    {
     "name": "stdout",
     "output_type": "stream",
     "text": [
      "<class 'pandas.core.frame.DataFrame'>\n",
      "RangeIndex: 150000 entries, 0 to 149999\n",
      "Data columns (total 1 columns):\n",
      " #   Column    Non-Null Count   Dtype \n",
      "---  ------    --------------   ----- \n",
      " 0   document  149995 non-null  object\n",
      "dtypes: object(1)\n",
      "memory usage: 1.1+ MB\n"
     ]
    }
   ],
   "source": [
    "df_naver_movie_comments.info()"
   ]
  },
  {
   "cell_type": "code",
   "execution_count": 5,
   "id": "8ef3e590-c93f-407c-a4f9-2e235e9feeec",
   "metadata": {
    "tags": []
   },
   "outputs": [
    {
     "data": {
      "text/plain": [
       "[['아 더빙.. 진짜 짜증나네요 목소리'], ['흠...포스터보고 초딩영화줄....오버연기조차 가볍지 않구나']]"
      ]
     },
     "execution_count": 5,
     "metadata": {},
     "output_type": "execute_result"
    }
   ],
   "source": [
    "naver_comments=df_naver_movie_comments.values.tolist()\n",
    "naver_comments[:2]"
   ]
  },
  {
   "cell_type": "code",
   "execution_count": 6,
   "id": "44293de5-c87b-43d8-831c-da723084c3bd",
   "metadata": {
    "tags": []
   },
   "outputs": [],
   "source": [
    "from mecab import MeCab\n",
    "mecab = MeCab()"
   ]
  },
  {
   "cell_type": "code",
   "execution_count": 7,
   "id": "b7449bb9-026d-44f4-8deb-a6a5cafd5ca6",
   "metadata": {
    "tags": []
   },
   "outputs": [],
   "source": [
    "from sklearn.feature_extraction.text import CountVectorizer, TfidfVectorizer"
   ]
  },
  {
   "cell_type": "code",
   "execution_count": null,
   "id": "844a1abd-1c61-484d-9e8a-35d2f5e0b0fb",
   "metadata": {
    "tags": []
   },
   "outputs": [],
   "source": [
    "tokenized_comments = list()\n",
    "for comment in naver_comments :\n",
    "    coemment_morphs = mecab.morphs(comment)    \n",
    "    tokenized_comments.append(coemment_morphs)\n",
    "tokenized_comments"
   ]
  },
  {
   "cell_type": "code",
   "execution_count": null,
   "id": "779d39ff-5261-49ff-87b5-763eb346ed19",
   "metadata": {},
   "outputs": [],
   "source": []
  }
 ],
 "metadata": {
  "kernelspec": {
   "display_name": "Python 3 (ipykernel)",
   "language": "python",
   "name": "python3"
  },
  "language_info": {
   "codemirror_mode": {
    "name": "ipython",
    "version": 3
   },
   "file_extension": ".py",
   "mimetype": "text/x-python",
   "name": "python",
   "nbconvert_exporter": "python",
   "pygments_lexer": "ipython3",
   "version": "3.11.3"
  }
 },
 "nbformat": 4,
 "nbformat_minor": 5
}
