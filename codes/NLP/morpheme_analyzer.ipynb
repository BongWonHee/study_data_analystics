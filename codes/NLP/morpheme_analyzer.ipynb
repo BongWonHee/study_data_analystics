{
 "cells": [
  {
   "cell_type": "markdown",
   "id": "cb1d3779-abf8-4185-ad4c-3ab40b7f0629",
   "metadata": {},
   "source": [
    "## 한글 형태소 분석기기\n",
    " -  refer : https://konlpy-ko.readthedocs.io/ko/v0.6.0/"
   ]
  },
  {
   "cell_type": "code",
   "execution_count": 1,
   "id": "6582a5dc-84c5-402d-8cba-ffb1ad1b88d0",
   "metadata": {
    "tags": []
   },
   "outputs": [],
   "source": [
    "# !pip install konlpy "
   ]
  },
  {
   "cell_type": "markdown",
   "id": "5698958c-d1a6-4cfe-bd38-4b1b1f954a0a",
   "metadata": {},
   "source": [
    "### okt : 한글 분석기 종류"
   ]
  },
  {
   "cell_type": "code",
   "execution_count": 2,
   "id": "29921090-9400-4d7d-899e-663f86aab81f",
   "metadata": {
    "tags": []
   },
   "outputs": [],
   "source": [
    "from konlpy.tag import Okt"
   ]
  },
  {
   "cell_type": "code",
   "execution_count": 3,
   "id": "15f7f177-952d-4a66-8db1-123e902bdad8",
   "metadata": {
    "tags": []
   },
   "outputs": [],
   "source": [
    "okt=Okt()"
   ]
  },
  {
   "cell_type": "code",
   "execution_count": 9,
   "id": "aa89f169-9561-4d8a-9eb9-37b95e5111ac",
   "metadata": {
    "tags": []
   },
   "outputs": [],
   "source": [
    "sentence_list =[\n",
    "'아버지가방에들어가신다',\n",
    "'나는 밥을 먹는다','하늘을 나는 자동차',\n",
    "'아이폰 기다리다 지쳐 애플공홈에서 언락폰질러버렸다 6+ 128기가실버ㅋ']"
   ]
  },
  {
   "cell_type": "code",
   "execution_count": 5,
   "id": "4db5a07b-0918-4391-bc13-ee99a7281e37",
   "metadata": {
    "tags": []
   },
   "outputs": [
    {
     "data": {
      "text/plain": [
       "['나', '는', '밥', '을', '먹는다']"
      ]
     },
     "execution_count": 5,
     "metadata": {},
     "output_type": "execute_result"
    }
   ],
   "source": [
    "morphs_list = okt.morphs(sentence_list[1]) # 토큰화\n",
    "morphs_list"
   ]
  },
  {
   "cell_type": "code",
   "execution_count": 6,
   "id": "4af38d6d-01c8-4a36-9830-2d357c91ab50",
   "metadata": {},
   "outputs": [
    {
     "data": {
      "text/plain": [
       "['나', '밥']"
      ]
     },
     "execution_count": 6,
     "metadata": {},
     "output_type": "execute_result"
    }
   ],
   "source": [
    "okt.nouns(sentence_list[1]) # 명사만 가져오기"
   ]
  },
  {
   "cell_type": "code",
   "execution_count": 7,
   "id": "7ad4de3b-467f-4977-8bc1-fbef9cacbf05",
   "metadata": {
    "tags": []
   },
   "outputs": [
    {
     "data": {
      "text/plain": [
       "['애플공홈', '애플', '공홈']"
      ]
     },
     "execution_count": 7,
     "metadata": {},
     "output_type": "execute_result"
    }
   ],
   "source": [
    "okt.phrases('애플공홈') # 결합 명사 단어별 추출"
   ]
  },
  {
   "cell_type": "markdown",
   "id": "7cb496e7-f106-4934-908e-edb2b27a6ef9",
   "metadata": {
    "tags": []
   },
   "source": [
    "## Mecab"
   ]
  },
  {
   "cell_type": "code",
   "execution_count": 8,
   "id": "6209c4fc-1b17-4de6-a410-f77bce0d6d64",
   "metadata": {
    "tags": []
   },
   "outputs": [],
   "source": [
    "# !pip install python-mecab-ko"
   ]
  },
  {
   "cell_type": "code",
   "execution_count": 6,
   "id": "728d1217-6b3c-4d59-8b5a-3e317f36c88d",
   "metadata": {
    "tags": []
   },
   "outputs": [],
   "source": [
    "from mecab import MeCab"
   ]
  },
  {
   "cell_type": "code",
   "execution_count": 7,
   "id": "3d8ef4c4-692f-4140-b1c2-db985e69c4c3",
   "metadata": {
    "tags": []
   },
   "outputs": [],
   "source": [
    "mecab = MeCab()"
   ]
  },
  {
   "cell_type": "code",
   "execution_count": 10,
   "id": "a395255f-a2da-4ea9-9572-66743e6a88b8",
   "metadata": {
    "tags": []
   },
   "outputs": [
    {
     "data": {
      "text/plain": [
       "['아버지', '가', '방', '에', '들어가', '신다']"
      ]
     },
     "execution_count": 10,
     "metadata": {},
     "output_type": "execute_result"
    }
   ],
   "source": [
    "mecab.morphs(sentence_list[0])"
   ]
  },
  {
   "cell_type": "code",
   "execution_count": 11,
   "id": "e45c5070-6c01-4aae-a766-fcf321d49e05",
   "metadata": {},
   "outputs": [
    {
     "data": {
      "text/plain": [
       "[('아버지', 'NNG'),\n",
       " ('가', 'JKS'),\n",
       " ('방', 'NNG'),\n",
       " ('에', 'JKB'),\n",
       " ('들어가', 'VV'),\n",
       " ('신다', 'EP+EC')]"
      ]
     },
     "execution_count": 11,
     "metadata": {},
     "output_type": "execute_result"
    }
   ],
   "source": [
    "mecab.pos(sentence_list[0])"
   ]
  },
  {
   "cell_type": "code",
   "execution_count": 12,
   "id": "72c3e9ff-5d84-4972-8bf3-1e5fa9b50826",
   "metadata": {
    "tags": []
   },
   "outputs": [
    {
     "name": "stdout",
     "output_type": "stream",
     "text": [
      "['아버지', '가', '방', '에', '들어가', '신다']\n",
      "['나', '는', '밥', '을', '먹', '는다']\n",
      "['하늘', '을', '나', '는', '자동차']\n",
      "['아이폰', '기다리', '다', '지쳐', '애플', '공홈', '에서', '언락', '폰', '질러', '버렸', '다', '6', '+', '128', '기', '가', '실버', 'ㅋ']\n"
     ]
    }
   ],
   "source": [
    "for sentence in sentence_list :\n",
    "    morphs_list = mecab.morphs(sentence)\n",
    "    print(morphs_list)"
   ]
  },
  {
   "cell_type": "code",
   "execution_count": null,
   "id": "ff6853a1-5429-480c-94e2-200779ada624",
   "metadata": {},
   "outputs": [],
   "source": []
  }
 ],
 "metadata": {
  "kernelspec": {
   "display_name": "Python 3 (ipykernel)",
   "language": "python",
   "name": "python3"
  },
  "language_info": {
   "codemirror_mode": {
    "name": "ipython",
    "version": 3
   },
   "file_extension": ".py",
   "mimetype": "text/x-python",
   "name": "python",
   "nbconvert_exporter": "python",
   "pygments_lexer": "ipython3",
   "version": "3.11.3"
  }
 },
 "nbformat": 4,
 "nbformat_minor": 5
}
