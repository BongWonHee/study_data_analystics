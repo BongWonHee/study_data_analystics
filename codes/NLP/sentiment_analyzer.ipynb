{
 "cells": [
  {
   "cell_type": "markdown",
   "id": "b151c3b6-e31e-4ccb-8a72-2fe870c738c0",
   "metadata": {},
   "source": [
    "## 감성 사전 의한 감성분석"
   ]
  },
  {
   "cell_type": "code",
   "execution_count": 1,
   "id": "885486bb-d80d-4d2b-ab01-b9ef997a25fb",
   "metadata": {
    "tags": []
   },
   "outputs": [],
   "source": [
    "import pandas as pd"
   ]
  },
  {
   "cell_type": "code",
   "execution_count": 4,
   "id": "7473667f-eeab-4e65-862a-70389f53fb5b",
   "metadata": {
    "tags": []
   },
   "outputs": [
    {
     "data": {
      "text/html": [
       "<div>\n",
       "<style scoped>\n",
       "    .dataframe tbody tr th:only-of-type {\n",
       "        vertical-align: middle;\n",
       "    }\n",
       "\n",
       "    .dataframe tbody tr th {\n",
       "        vertical-align: top;\n",
       "    }\n",
       "\n",
       "    .dataframe thead th {\n",
       "        text-align: right;\n",
       "    }\n",
       "</style>\n",
       "<table border=\"1\" class=\"dataframe\">\n",
       "  <thead>\n",
       "    <tr style=\"text-align: right;\">\n",
       "      <th></th>\n",
       "      <th>출처</th>\n",
       "    </tr>\n",
       "  </thead>\n",
       "  <tbody>\n",
       "    <tr>\n",
       "      <th>0</th>\n",
       "      <td>1) 표준국어대사전 뜻풀이</td>\n",
       "    </tr>\n",
       "    <tr>\n",
       "      <th>1</th>\n",
       "      <td>-&gt; https://github.com/mrchypark/stdkor</td>\n",
       "    </tr>\n",
       "    <tr>\n",
       "      <th>2</th>\n",
       "      <td>2) 신조어</td>\n",
       "    </tr>\n",
       "    <tr>\n",
       "      <th>3</th>\n",
       "      <td>-&gt; https://ko.wikipedia.org/wiki/%EB%8C%80%ED%...</td>\n",
       "    </tr>\n",
       "    <tr>\n",
       "      <th>4</th>\n",
       "      <td>3) 이모티콘</td>\n",
       "    </tr>\n",
       "    <tr>\n",
       "      <th>...</th>\n",
       "      <td>...</td>\n",
       "    </tr>\n",
       "    <tr>\n",
       "      <th>9837</th>\n",
       "      <td>비리를</td>\n",
       "    </tr>\n",
       "    <tr>\n",
       "      <th>9838</th>\n",
       "      <td>의혹</td>\n",
       "    </tr>\n",
       "    <tr>\n",
       "      <th>9839</th>\n",
       "      <td>내팽개치다</td>\n",
       "    </tr>\n",
       "    <tr>\n",
       "      <th>9840</th>\n",
       "      <td>횡령</td>\n",
       "    </tr>\n",
       "    <tr>\n",
       "      <th>9841</th>\n",
       "      <td>불안증</td>\n",
       "    </tr>\n",
       "  </tbody>\n",
       "</table>\n",
       "<p>9842 rows × 1 columns</p>\n",
       "</div>"
      ],
      "text/plain": [
       "                                                     출처\n",
       "0                                        1) 표준국어대사전 뜻풀이\n",
       "1                -> https://github.com/mrchypark/stdkor\n",
       "2                                                2) 신조어\n",
       "3     -> https://ko.wikipedia.org/wiki/%EB%8C%80%ED%...\n",
       "4                                               3) 이모티콘\n",
       "...                                                 ...\n",
       "9837                                                비리를\n",
       "9838                                                 의혹\n",
       "9839                                              내팽개치다\n",
       "9840                                                 횡령\n",
       "9841                                                불안증\n",
       "\n",
       "[9842 rows x 1 columns]"
      ]
     },
     "execution_count": 4,
     "metadata": {},
     "output_type": "execute_result"
    }
   ],
   "source": [
    "df_positives = pd.read_csv('../gatheringdatas/mongodb/pos_pol_word.txt', delimiter='\\t')\n",
    "df_positives"
   ]
  },
  {
   "cell_type": "code",
   "execution_count": null,
   "id": "1cc4ce41-4aa2-4010-b7b4-85f2803a60fe",
   "metadata": {},
   "outputs": [],
   "source": []
  }
 ],
 "metadata": {
  "kernelspec": {
   "display_name": "Python 3 (ipykernel)",
   "language": "python",
   "name": "python3"
  },
  "language_info": {
   "codemirror_mode": {
    "name": "ipython",
    "version": 3
   },
   "file_extension": ".py",
   "mimetype": "text/x-python",
   "name": "python",
   "nbconvert_exporter": "python",
   "pygments_lexer": "ipython3",
   "version": "3.11.3"
  }
 },
 "nbformat": 4,
 "nbformat_minor": 5
}
